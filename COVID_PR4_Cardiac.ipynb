{
 "cells": [
  {
   "cell_type": "code",
   "execution_count": 1,
   "metadata": {},
   "outputs": [],
   "source": [
    "import pandas as pd\n",
    "import numpy as np\n",
    "import seaborn as sns\n",
    "import matplotlib.pyplot as plt\n",
    "import datetime as dt"
   ]
  },
  {
   "cell_type": "code",
   "execution_count": 2,
   "metadata": {},
   "outputs": [],
   "source": [
    "ca = pd.read_excel(\"/Users/holliknight/Desktop/OneDrive - Prince George's County, Maryland/FirstWatch Data/COVID related/CardiacArrests_2019_2020All.xlsx\")"
   ]
  },
  {
   "cell_type": "code",
   "execution_count": 5,
   "metadata": {},
   "outputs": [
    {
     "data": {
      "text/html": [
       "<div>\n",
       "<style scoped>\n",
       "    .dataframe tbody tr th:only-of-type {\n",
       "        vertical-align: middle;\n",
       "    }\n",
       "\n",
       "    .dataframe tbody tr th {\n",
       "        vertical-align: top;\n",
       "    }\n",
       "\n",
       "    .dataframe thead th {\n",
       "        text-align: right;\n",
       "    }\n",
       "</style>\n",
       "<table border=\"1\" class=\"dataframe\">\n",
       "  <thead>\n",
       "    <tr style=\"text-align: right;\">\n",
       "      <th></th>\n",
       "      <th>Incident #</th>\n",
       "      <th>Time Created</th>\n",
       "      <th>Address/Location</th>\n",
       "      <th>Box#</th>\n",
       "      <th>Final Call Type</th>\n",
       "      <th>Pri</th>\n",
       "      <th>Problem</th>\n",
       "      <th>Free Text Match</th>\n",
       "    </tr>\n",
       "  </thead>\n",
       "  <tbody>\n",
       "    <tr>\n",
       "      <th>4251</th>\n",
       "      <td>PF21011000000085</td>\n",
       "      <td>2021-01-10 07:41:41</td>\n",
       "      <td>9318 EDMONSTON RD</td>\n",
       "      <td>1402</td>\n",
       "      <td>CPR COMBINED</td>\n",
       "      <td>0</td>\n",
       "      <td>CPRC</td>\n",
       "      <td>[WORKING CODE],[CPR]</td>\n",
       "    </tr>\n",
       "    <tr>\n",
       "      <th>4252</th>\n",
       "      <td>PF21011000000112</td>\n",
       "      <td>2021-01-10 09:20:29</td>\n",
       "      <td>3908 NEWTON ST</td>\n",
       "      <td>5501</td>\n",
       "      <td>WORKING CODE</td>\n",
       "      <td>0</td>\n",
       "      <td>CPR</td>\n",
       "      <td>[CPR]</td>\n",
       "    </tr>\n",
       "    <tr>\n",
       "      <th>4253</th>\n",
       "      <td>PF21011000000232</td>\n",
       "      <td>2021-01-10 14:40:27</td>\n",
       "      <td>301 GOLDLEAF AVE</td>\n",
       "      <td>802</td>\n",
       "      <td>CPR COMBINED</td>\n",
       "      <td>0</td>\n",
       "      <td>CPRC</td>\n",
       "      <td>[CPR]</td>\n",
       "    </tr>\n",
       "    <tr>\n",
       "      <th>4254</th>\n",
       "      <td>PF21011000000399</td>\n",
       "      <td>2021-01-10 22:04:16</td>\n",
       "      <td>9211 STUART LN</td>\n",
       "      <td>2501</td>\n",
       "      <td>WORKING CODE</td>\n",
       "      <td>0</td>\n",
       "      <td>CPR</td>\n",
       "      <td>[WORKING CODE],[CPR]</td>\n",
       "    </tr>\n",
       "    <tr>\n",
       "      <th>4255</th>\n",
       "      <td>PF21011000000434</td>\n",
       "      <td>2021-01-10 23:36:52</td>\n",
       "      <td>6710 MALLERY DR</td>\n",
       "      <td>4801</td>\n",
       "      <td>WORKING CODE</td>\n",
       "      <td>0</td>\n",
       "      <td>CPR</td>\n",
       "      <td>[CPR]</td>\n",
       "    </tr>\n",
       "  </tbody>\n",
       "</table>\n",
       "</div>"
      ],
      "text/plain": [
       "            Incident #        Time Created   Address/Location  Box#  \\\n",
       "4251  PF21011000000085 2021-01-10 07:41:41  9318 EDMONSTON RD  1402   \n",
       "4252  PF21011000000112 2021-01-10 09:20:29     3908 NEWTON ST  5501   \n",
       "4253  PF21011000000232 2021-01-10 14:40:27   301 GOLDLEAF AVE   802   \n",
       "4254  PF21011000000399 2021-01-10 22:04:16     9211 STUART LN  2501   \n",
       "4255  PF21011000000434 2021-01-10 23:36:52    6710 MALLERY DR  4801   \n",
       "\n",
       "     Final Call Type  Pri Problem       Free Text Match  \n",
       "4251    CPR COMBINED    0    CPRC  [WORKING CODE],[CPR]  \n",
       "4252    WORKING CODE    0     CPR                 [CPR]  \n",
       "4253    CPR COMBINED    0    CPRC                 [CPR]  \n",
       "4254    WORKING CODE    0     CPR  [WORKING CODE],[CPR]  \n",
       "4255    WORKING CODE    0     CPR                 [CPR]  "
      ]
     },
     "execution_count": 5,
     "metadata": {},
     "output_type": "execute_result"
    }
   ],
   "source": [
    "ca.tail()"
   ]
  },
  {
   "cell_type": "code",
   "execution_count": 6,
   "metadata": {},
   "outputs": [],
   "source": [
    "ca = ca.sort_values(\n",
    "    by=['Time Created'], ascending=True)"
   ]
  },
  {
   "cell_type": "code",
   "execution_count": 7,
   "metadata": {},
   "outputs": [],
   "source": [
    "ca = ca[['Time Created', 'Incident #']]"
   ]
  },
  {
   "cell_type": "code",
   "execution_count": 8,
   "metadata": {
    "scrolled": true
   },
   "outputs": [
    {
     "data": {
      "text/html": [
       "<div>\n",
       "<style scoped>\n",
       "    .dataframe tbody tr th:only-of-type {\n",
       "        vertical-align: middle;\n",
       "    }\n",
       "\n",
       "    .dataframe tbody tr th {\n",
       "        vertical-align: top;\n",
       "    }\n",
       "\n",
       "    .dataframe thead th {\n",
       "        text-align: right;\n",
       "    }\n",
       "</style>\n",
       "<table border=\"1\" class=\"dataframe\">\n",
       "  <thead>\n",
       "    <tr style=\"text-align: right;\">\n",
       "      <th></th>\n",
       "      <th>Time Created</th>\n",
       "      <th>Incident #</th>\n",
       "    </tr>\n",
       "  </thead>\n",
       "  <tbody>\n",
       "    <tr>\n",
       "      <th>count</th>\n",
       "      <td>4256</td>\n",
       "      <td>4256</td>\n",
       "    </tr>\n",
       "    <tr>\n",
       "      <th>unique</th>\n",
       "      <td>4256</td>\n",
       "      <td>4256</td>\n",
       "    </tr>\n",
       "    <tr>\n",
       "      <th>top</th>\n",
       "      <td>2019-10-28 16:20:21</td>\n",
       "      <td>PF20021600000166</td>\n",
       "    </tr>\n",
       "    <tr>\n",
       "      <th>freq</th>\n",
       "      <td>1</td>\n",
       "      <td>1</td>\n",
       "    </tr>\n",
       "    <tr>\n",
       "      <th>first</th>\n",
       "      <td>2019-01-01 06:59:27</td>\n",
       "      <td>NaN</td>\n",
       "    </tr>\n",
       "    <tr>\n",
       "      <th>last</th>\n",
       "      <td>2021-01-10 23:36:52</td>\n",
       "      <td>NaN</td>\n",
       "    </tr>\n",
       "  </tbody>\n",
       "</table>\n",
       "</div>"
      ],
      "text/plain": [
       "               Time Created        Incident #\n",
       "count                  4256              4256\n",
       "unique                 4256              4256\n",
       "top     2019-10-28 16:20:21  PF20021600000166\n",
       "freq                      1                 1\n",
       "first   2019-01-01 06:59:27               NaN\n",
       "last    2021-01-10 23:36:52               NaN"
      ]
     },
     "execution_count": 8,
     "metadata": {},
     "output_type": "execute_result"
    }
   ],
   "source": [
    "ca.describe()"
   ]
  },
  {
   "cell_type": "code",
   "execution_count": 9,
   "metadata": {},
   "outputs": [],
   "source": [
    "ca = ca.drop_duplicates(subset='Incident #', keep=\"first\")"
   ]
  },
  {
   "cell_type": "code",
   "execution_count": 10,
   "metadata": {},
   "outputs": [
    {
     "data": {
      "text/plain": [
       "Time Created    datetime64[ns]\n",
       "Incident #              object\n",
       "dtype: object"
      ]
     },
     "execution_count": 10,
     "metadata": {},
     "output_type": "execute_result"
    }
   ],
   "source": [
    "ca.dtypes"
   ]
  },
  {
   "cell_type": "code",
   "execution_count": 11,
   "metadata": {},
   "outputs": [],
   "source": [
    "ca['Time Created'] = ca['Time Created'].astype(str)"
   ]
  },
  {
   "cell_type": "code",
   "execution_count": 12,
   "metadata": {},
   "outputs": [],
   "source": [
    "ca[['DateCreated','TimeCreated']] = ca['Time Created'].str.split(' ',expand=True)"
   ]
  },
  {
   "cell_type": "code",
   "execution_count": 13,
   "metadata": {},
   "outputs": [],
   "source": [
    "ca = ca[['DateCreated', 'Incident #']]"
   ]
  },
  {
   "cell_type": "code",
   "execution_count": 14,
   "metadata": {},
   "outputs": [],
   "source": [
    "ca.columns = ['DateCreated', 'Cardiac_Incidents']"
   ]
  },
  {
   "cell_type": "code",
   "execution_count": 15,
   "metadata": {},
   "outputs": [
    {
     "data": {
      "text/html": [
       "<div>\n",
       "<style scoped>\n",
       "    .dataframe tbody tr th:only-of-type {\n",
       "        vertical-align: middle;\n",
       "    }\n",
       "\n",
       "    .dataframe tbody tr th {\n",
       "        vertical-align: top;\n",
       "    }\n",
       "\n",
       "    .dataframe thead th {\n",
       "        text-align: right;\n",
       "    }\n",
       "</style>\n",
       "<table border=\"1\" class=\"dataframe\">\n",
       "  <thead>\n",
       "    <tr style=\"text-align: right;\">\n",
       "      <th></th>\n",
       "      <th>DateCreated</th>\n",
       "      <th>Cardiac_Incidents</th>\n",
       "    </tr>\n",
       "  </thead>\n",
       "  <tbody>\n",
       "    <tr>\n",
       "      <th>0</th>\n",
       "      <td>2019-01-01</td>\n",
       "      <td>PF19010100000163</td>\n",
       "    </tr>\n",
       "    <tr>\n",
       "      <th>1</th>\n",
       "      <td>2019-01-01</td>\n",
       "      <td>PF19010100000191</td>\n",
       "    </tr>\n",
       "    <tr>\n",
       "      <th>2</th>\n",
       "      <td>2019-01-01</td>\n",
       "      <td>PF19010100000193</td>\n",
       "    </tr>\n",
       "    <tr>\n",
       "      <th>3</th>\n",
       "      <td>2019-01-01</td>\n",
       "      <td>PF19010100000195</td>\n",
       "    </tr>\n",
       "    <tr>\n",
       "      <th>4</th>\n",
       "      <td>2019-01-01</td>\n",
       "      <td>PF19010100000355</td>\n",
       "    </tr>\n",
       "  </tbody>\n",
       "</table>\n",
       "</div>"
      ],
      "text/plain": [
       "  DateCreated Cardiac_Incidents\n",
       "0  2019-01-01  PF19010100000163\n",
       "1  2019-01-01  PF19010100000191\n",
       "2  2019-01-01  PF19010100000193\n",
       "3  2019-01-01  PF19010100000195\n",
       "4  2019-01-01  PF19010100000355"
      ]
     },
     "execution_count": 15,
     "metadata": {},
     "output_type": "execute_result"
    }
   ],
   "source": [
    "ca.head()"
   ]
  },
  {
   "cell_type": "code",
   "execution_count": 16,
   "metadata": {},
   "outputs": [
    {
     "name": "stdout",
     "output_type": "stream",
     "text": [
      "datetime64[ns]\n"
     ]
    }
   ],
   "source": [
    "ca['DateCreated'] = pd.to_datetime(ca['DateCreated'])\n",
    "print (ca['DateCreated'].dtype)"
   ]
  },
  {
   "cell_type": "code",
   "execution_count": 17,
   "metadata": {},
   "outputs": [],
   "source": [
    "ca['Week'] = ca['DateCreated'].dt.week\n",
    "ca['Year'] = ca['DateCreated'].dt.year"
   ]
  },
  {
   "cell_type": "code",
   "execution_count": 18,
   "metadata": {},
   "outputs": [],
   "source": [
    "ca = ca.groupby(['Year', 'Week'],as_index=False)[\"Cardiac_Incidents\"].count()"
   ]
  },
  {
   "cell_type": "code",
   "execution_count": 21,
   "metadata": {
    "scrolled": true
   },
   "outputs": [
    {
     "data": {
      "text/html": [
       "<div>\n",
       "<style scoped>\n",
       "    .dataframe tbody tr th:only-of-type {\n",
       "        vertical-align: middle;\n",
       "    }\n",
       "\n",
       "    .dataframe tbody tr th {\n",
       "        vertical-align: top;\n",
       "    }\n",
       "\n",
       "    .dataframe thead th {\n",
       "        text-align: right;\n",
       "    }\n",
       "</style>\n",
       "<table border=\"1\" class=\"dataframe\">\n",
       "  <thead>\n",
       "    <tr style=\"text-align: right;\">\n",
       "      <th></th>\n",
       "      <th>Year</th>\n",
       "      <th>Week</th>\n",
       "      <th>Cardiac_Incidents</th>\n",
       "    </tr>\n",
       "  </thead>\n",
       "  <tbody>\n",
       "    <tr>\n",
       "      <th>102</th>\n",
       "      <td>2020</td>\n",
       "      <td>51</td>\n",
       "      <td>60</td>\n",
       "    </tr>\n",
       "    <tr>\n",
       "      <th>103</th>\n",
       "      <td>2020</td>\n",
       "      <td>52</td>\n",
       "      <td>42</td>\n",
       "    </tr>\n",
       "    <tr>\n",
       "      <th>104</th>\n",
       "      <td>2020</td>\n",
       "      <td>53</td>\n",
       "      <td>42</td>\n",
       "    </tr>\n",
       "    <tr>\n",
       "      <th>105</th>\n",
       "      <td>2021</td>\n",
       "      <td>1</td>\n",
       "      <td>46</td>\n",
       "    </tr>\n",
       "    <tr>\n",
       "      <th>106</th>\n",
       "      <td>2021</td>\n",
       "      <td>53</td>\n",
       "      <td>19</td>\n",
       "    </tr>\n",
       "  </tbody>\n",
       "</table>\n",
       "</div>"
      ],
      "text/plain": [
       "     Year  Week  Cardiac_Incidents\n",
       "102  2020    51                 60\n",
       "103  2020    52                 42\n",
       "104  2020    53                 42\n",
       "105  2021     1                 46\n",
       "106  2021    53                 19"
      ]
     },
     "execution_count": 21,
     "metadata": {},
     "output_type": "execute_result"
    }
   ],
   "source": [
    "ca.tail()"
   ]
  },
  {
   "cell_type": "code",
   "execution_count": 20,
   "metadata": {},
   "outputs": [],
   "source": [
    "ca.loc[104,'Cardiac_Incidents'] = 42"
   ]
  },
  {
   "cell_type": "code",
   "execution_count": 51,
   "metadata": {},
   "outputs": [],
   "source": [
    "pr4 = pd.read_excel(\"/Users/holliknight/Desktop/OneDrive - Prince George's County, Maryland/FirstWatch Data/COVID related/ePCR_2019_2020All.xlsx\")"
   ]
  },
  {
   "cell_type": "code",
   "execution_count": 52,
   "metadata": {},
   "outputs": [
    {
     "data": {
      "text/html": [
       "<div>\n",
       "<style scoped>\n",
       "    .dataframe tbody tr th:only-of-type {\n",
       "        vertical-align: middle;\n",
       "    }\n",
       "\n",
       "    .dataframe tbody tr th {\n",
       "        vertical-align: top;\n",
       "    }\n",
       "\n",
       "    .dataframe thead th {\n",
       "        text-align: right;\n",
       "    }\n",
       "</style>\n",
       "<table border=\"1\" class=\"dataframe\">\n",
       "  <thead>\n",
       "    <tr style=\"text-align: right;\">\n",
       "      <th></th>\n",
       "      <th>Time Dispatched</th>\n",
       "      <th>Problem</th>\n",
       "      <th>Priority</th>\n",
       "      <th>EMD Card#</th>\n",
       "      <th>Unit</th>\n",
       "      <th>Incident #</th>\n",
       "      <th>Address/Location</th>\n",
       "      <th>City</th>\n",
       "      <th>Zip</th>\n",
       "      <th>Incident Location Type</th>\n",
       "      <th>Destination</th>\n",
       "      <th>GPS Locations</th>\n",
       "      <th>Disposition</th>\n",
       "      <th>Age</th>\n",
       "      <th>Gender</th>\n",
       "    </tr>\n",
       "  </thead>\n",
       "  <tbody>\n",
       "    <tr>\n",
       "      <th>388055</th>\n",
       "      <td>2021-01-10 23:44:09</td>\n",
       "      <td>Convulsions/Seizure</td>\n",
       "      <td>NaN</td>\n",
       "      <td>NaN</td>\n",
       "      <td>PE830</td>\n",
       "      <td>21011000000437</td>\n",
       "      <td>4700 GARDEN CITY DR</td>\n",
       "      <td>Hyattsville</td>\n",
       "      <td>20785.0</td>\n",
       "      <td>Vehicle</td>\n",
       "      <td>NaN</td>\n",
       "      <td>38.947952,-76.871955</td>\n",
       "      <td>Canceled on Scene (No Patient Contact)</td>\n",
       "      <td></td>\n",
       "      <td>NaN</td>\n",
       "    </tr>\n",
       "    <tr>\n",
       "      <th>388056</th>\n",
       "      <td>2021-01-10 23:49:39</td>\n",
       "      <td>Breathing Problem</td>\n",
       "      <td>NaN</td>\n",
       "      <td>NaN</td>\n",
       "      <td>PA835</td>\n",
       "      <td>21011000000439</td>\n",
       "      <td>RANDOLPH ST / 56TH AVE</td>\n",
       "      <td>Hyattsville</td>\n",
       "      <td>20784.0</td>\n",
       "      <td>Roadways</td>\n",
       "      <td>NaN</td>\n",
       "      <td>38.938184,-76.922048</td>\n",
       "      <td>Canceled on Scene (No Patient Found)</td>\n",
       "      <td></td>\n",
       "      <td>NaN</td>\n",
       "    </tr>\n",
       "    <tr>\n",
       "      <th>388057</th>\n",
       "      <td>2021-01-10 23:49:39</td>\n",
       "      <td>Breathing Problem</td>\n",
       "      <td>NaN</td>\n",
       "      <td>NaN</td>\n",
       "      <td>E809</td>\n",
       "      <td>21011000000439</td>\n",
       "      <td>RANDOLPH ST / 56TH AVE</td>\n",
       "      <td>Hyattsville</td>\n",
       "      <td>20784.0</td>\n",
       "      <td>Roadways</td>\n",
       "      <td>NaN</td>\n",
       "      <td>38.938184,-76.922048</td>\n",
       "      <td>Standby-Public Safety, Fire, or EMS Operationa...</td>\n",
       "      <td></td>\n",
       "      <td>NaN</td>\n",
       "    </tr>\n",
       "    <tr>\n",
       "      <th>388058</th>\n",
       "      <td>2021-01-10 23:51:03</td>\n",
       "      <td>Abdominal Pain/Problems</td>\n",
       "      <td>Priority 2</td>\n",
       "      <td>NaN</td>\n",
       "      <td>MD812</td>\n",
       "      <td>21011000000440</td>\n",
       "      <td>6215 60TH PL</td>\n",
       "      <td>Riverdale Park</td>\n",
       "      <td>20737.0</td>\n",
       "      <td>Private Residence</td>\n",
       "      <td>Doctors Community Hospital - 329</td>\n",
       "      <td>38.962537,-76.913801</td>\n",
       "      <td>Patient Treated, Transported by this EMS Unit</td>\n",
       "      <td>64 Years</td>\n",
       "      <td>Female</td>\n",
       "    </tr>\n",
       "    <tr>\n",
       "      <th>388059</th>\n",
       "      <td>2021-01-10 23:58:01</td>\n",
       "      <td>Sick Person</td>\n",
       "      <td>Priority 3</td>\n",
       "      <td>NaN</td>\n",
       "      <td>PA826B</td>\n",
       "      <td>21011000000441</td>\n",
       "      <td>2402 LAKEHURST AVE</td>\n",
       "      <td>Forestville</td>\n",
       "      <td>20747.0</td>\n",
       "      <td>Residential Institution</td>\n",
       "      <td>Prince George's Hospital Center (UMCRH) - 232</td>\n",
       "      <td>38.856211,-76.876022</td>\n",
       "      <td>Patient Treated, Transported by this EMS Unit</td>\n",
       "      <td>36 Years</td>\n",
       "      <td>Female</td>\n",
       "    </tr>\n",
       "  </tbody>\n",
       "</table>\n",
       "</div>"
      ],
      "text/plain": [
       "           Time Dispatched                  Problem    Priority EMD Card#  \\\n",
       "388055 2021-01-10 23:44:09      Convulsions/Seizure         NaN       NaN   \n",
       "388056 2021-01-10 23:49:39        Breathing Problem         NaN       NaN   \n",
       "388057 2021-01-10 23:49:39        Breathing Problem         NaN       NaN   \n",
       "388058 2021-01-10 23:51:03  Abdominal Pain/Problems  Priority 2       NaN   \n",
       "388059 2021-01-10 23:58:01              Sick Person  Priority 3       NaN   \n",
       "\n",
       "          Unit      Incident #        Address/Location            City  \\\n",
       "388055   PE830  21011000000437     4700 GARDEN CITY DR     Hyattsville   \n",
       "388056   PA835  21011000000439  RANDOLPH ST / 56TH AVE     Hyattsville   \n",
       "388057    E809  21011000000439  RANDOLPH ST / 56TH AVE     Hyattsville   \n",
       "388058   MD812  21011000000440            6215 60TH PL  Riverdale Park   \n",
       "388059  PA826B  21011000000441      2402 LAKEHURST AVE     Forestville   \n",
       "\n",
       "            Zip   Incident Location Type  \\\n",
       "388055  20785.0                  Vehicle   \n",
       "388056  20784.0                 Roadways   \n",
       "388057  20784.0                 Roadways   \n",
       "388058  20737.0        Private Residence   \n",
       "388059  20747.0  Residential Institution   \n",
       "\n",
       "                                          Destination         GPS Locations  \\\n",
       "388055                                            NaN  38.947952,-76.871955   \n",
       "388056                                            NaN  38.938184,-76.922048   \n",
       "388057                                            NaN  38.938184,-76.922048   \n",
       "388058               Doctors Community Hospital - 329  38.962537,-76.913801   \n",
       "388059  Prince George's Hospital Center (UMCRH) - 232  38.856211,-76.876022   \n",
       "\n",
       "                                              Disposition       Age  Gender  \n",
       "388055             Canceled on Scene (No Patient Contact)               NaN  \n",
       "388056               Canceled on Scene (No Patient Found)               NaN  \n",
       "388057  Standby-Public Safety, Fire, or EMS Operationa...               NaN  \n",
       "388058      Patient Treated, Transported by this EMS Unit  64 Years  Female  \n",
       "388059      Patient Treated, Transported by this EMS Unit  36 Years  Female  "
      ]
     },
     "execution_count": 52,
     "metadata": {},
     "output_type": "execute_result"
    }
   ],
   "source": [
    "pr4.tail()"
   ]
  },
  {
   "cell_type": "code",
   "execution_count": 53,
   "metadata": {},
   "outputs": [],
   "source": [
    "pr4 = pr4.loc[pr4['Disposition'].str.startswith('Patient Dead', na=False)]"
   ]
  },
  {
   "cell_type": "code",
   "execution_count": 54,
   "metadata": {},
   "outputs": [],
   "source": [
    "pr4 = pr4[['Time Dispatched', 'Incident #']]"
   ]
  },
  {
   "cell_type": "code",
   "execution_count": 55,
   "metadata": {},
   "outputs": [
    {
     "data": {
      "text/html": [
       "<div>\n",
       "<style scoped>\n",
       "    .dataframe tbody tr th:only-of-type {\n",
       "        vertical-align: middle;\n",
       "    }\n",
       "\n",
       "    .dataframe tbody tr th {\n",
       "        vertical-align: top;\n",
       "    }\n",
       "\n",
       "    .dataframe thead th {\n",
       "        text-align: right;\n",
       "    }\n",
       "</style>\n",
       "<table border=\"1\" class=\"dataframe\">\n",
       "  <thead>\n",
       "    <tr style=\"text-align: right;\">\n",
       "      <th></th>\n",
       "      <th>Time Dispatched</th>\n",
       "      <th>Incident #</th>\n",
       "    </tr>\n",
       "  </thead>\n",
       "  <tbody>\n",
       "    <tr>\n",
       "      <th>count</th>\n",
       "      <td>3799</td>\n",
       "      <td>3.799000e+03</td>\n",
       "    </tr>\n",
       "    <tr>\n",
       "      <th>unique</th>\n",
       "      <td>3431</td>\n",
       "      <td>3.425000e+03</td>\n",
       "    </tr>\n",
       "    <tr>\n",
       "      <th>top</th>\n",
       "      <td>2020-07-18 02:42:08</td>\n",
       "      <td>2.002170e+13</td>\n",
       "    </tr>\n",
       "    <tr>\n",
       "      <th>freq</th>\n",
       "      <td>3</td>\n",
       "      <td>3.000000e+00</td>\n",
       "    </tr>\n",
       "    <tr>\n",
       "      <th>first</th>\n",
       "      <td>2019-01-01 06:59:27</td>\n",
       "      <td>NaN</td>\n",
       "    </tr>\n",
       "    <tr>\n",
       "      <th>last</th>\n",
       "      <td>2021-01-10 23:36:52</td>\n",
       "      <td>NaN</td>\n",
       "    </tr>\n",
       "  </tbody>\n",
       "</table>\n",
       "</div>"
      ],
      "text/plain": [
       "            Time Dispatched    Incident #\n",
       "count                  3799  3.799000e+03\n",
       "unique                 3431  3.425000e+03\n",
       "top     2020-07-18 02:42:08  2.002170e+13\n",
       "freq                      3  3.000000e+00\n",
       "first   2019-01-01 06:59:27           NaN\n",
       "last    2021-01-10 23:36:52           NaN"
      ]
     },
     "execution_count": 55,
     "metadata": {},
     "output_type": "execute_result"
    }
   ],
   "source": [
    "pr4.describe()"
   ]
  },
  {
   "cell_type": "code",
   "execution_count": 56,
   "metadata": {},
   "outputs": [],
   "source": [
    "pr4 = pr4.drop_duplicates(subset='Incident #', keep=\"first\")"
   ]
  },
  {
   "cell_type": "code",
   "execution_count": 57,
   "metadata": {},
   "outputs": [],
   "source": [
    "pr4['Time Dispatched'] = pr4['Time Dispatched'].astype(str)"
   ]
  },
  {
   "cell_type": "code",
   "execution_count": 58,
   "metadata": {},
   "outputs": [],
   "source": [
    "pr4[['DateCreated','TimeCreated']] = pr4['Time Dispatched'].str.split(' ',expand=True)"
   ]
  },
  {
   "cell_type": "code",
   "execution_count": 59,
   "metadata": {},
   "outputs": [],
   "source": [
    "pr4 = pr4[['DateCreated', 'Incident #']]\n",
    "pr4.columns = ['Date', 'Pr4_Incidents']"
   ]
  },
  {
   "cell_type": "code",
   "execution_count": 60,
   "metadata": {},
   "outputs": [
    {
     "data": {
      "text/html": [
       "<div>\n",
       "<style scoped>\n",
       "    .dataframe tbody tr th:only-of-type {\n",
       "        vertical-align: middle;\n",
       "    }\n",
       "\n",
       "    .dataframe tbody tr th {\n",
       "        vertical-align: top;\n",
       "    }\n",
       "\n",
       "    .dataframe thead th {\n",
       "        text-align: right;\n",
       "    }\n",
       "</style>\n",
       "<table border=\"1\" class=\"dataframe\">\n",
       "  <thead>\n",
       "    <tr style=\"text-align: right;\">\n",
       "      <th></th>\n",
       "      <th>Date</th>\n",
       "      <th>Pr4_Incidents</th>\n",
       "    </tr>\n",
       "  </thead>\n",
       "  <tbody>\n",
       "    <tr>\n",
       "      <th>count</th>\n",
       "      <td>3425</td>\n",
       "      <td>3425</td>\n",
       "    </tr>\n",
       "    <tr>\n",
       "      <th>unique</th>\n",
       "      <td>722</td>\n",
       "      <td>3425</td>\n",
       "    </tr>\n",
       "    <tr>\n",
       "      <th>top</th>\n",
       "      <td>2020-04-08</td>\n",
       "      <td>19100700000254</td>\n",
       "    </tr>\n",
       "    <tr>\n",
       "      <th>freq</th>\n",
       "      <td>14</td>\n",
       "      <td>1</td>\n",
       "    </tr>\n",
       "  </tbody>\n",
       "</table>\n",
       "</div>"
      ],
      "text/plain": [
       "              Date   Pr4_Incidents\n",
       "count         3425            3425\n",
       "unique         722            3425\n",
       "top     2020-04-08  19100700000254\n",
       "freq            14               1"
      ]
     },
     "execution_count": 60,
     "metadata": {},
     "output_type": "execute_result"
    }
   ],
   "source": [
    "pr4.describe()"
   ]
  },
  {
   "cell_type": "code",
   "execution_count": 61,
   "metadata": {},
   "outputs": [
    {
     "name": "stdout",
     "output_type": "stream",
     "text": [
      "datetime64[ns]\n"
     ]
    }
   ],
   "source": [
    "pr4['Date'] = pd.to_datetime(pr4['Date'])\n",
    "print (pr4['Date'].dtype)"
   ]
  },
  {
   "cell_type": "code",
   "execution_count": 62,
   "metadata": {},
   "outputs": [],
   "source": [
    "pr4['Week'] = pr4['Date'].dt.week\n",
    "pr4['Year'] = pr4['Date'].dt.year"
   ]
  },
  {
   "cell_type": "code",
   "execution_count": 63,
   "metadata": {},
   "outputs": [],
   "source": [
    "pr4 = pr4.groupby(['Year', 'Week'],as_index=False)[\"Pr4_Incidents\"].count()"
   ]
  },
  {
   "cell_type": "code",
   "execution_count": 66,
   "metadata": {
    "scrolled": false
   },
   "outputs": [
    {
     "data": {
      "text/html": [
       "<div>\n",
       "<style scoped>\n",
       "    .dataframe tbody tr th:only-of-type {\n",
       "        vertical-align: middle;\n",
       "    }\n",
       "\n",
       "    .dataframe tbody tr th {\n",
       "        vertical-align: top;\n",
       "    }\n",
       "\n",
       "    .dataframe thead th {\n",
       "        text-align: right;\n",
       "    }\n",
       "</style>\n",
       "<table border=\"1\" class=\"dataframe\">\n",
       "  <thead>\n",
       "    <tr style=\"text-align: right;\">\n",
       "      <th></th>\n",
       "      <th>Year</th>\n",
       "      <th>Week</th>\n",
       "      <th>Pr4_Incidents</th>\n",
       "    </tr>\n",
       "  </thead>\n",
       "  <tbody>\n",
       "    <tr>\n",
       "      <th>102</th>\n",
       "      <td>2020</td>\n",
       "      <td>51</td>\n",
       "      <td>45</td>\n",
       "    </tr>\n",
       "    <tr>\n",
       "      <th>103</th>\n",
       "      <td>2020</td>\n",
       "      <td>52</td>\n",
       "      <td>42</td>\n",
       "    </tr>\n",
       "    <tr>\n",
       "      <th>104</th>\n",
       "      <td>2020</td>\n",
       "      <td>53</td>\n",
       "      <td>42</td>\n",
       "    </tr>\n",
       "    <tr>\n",
       "      <th>105</th>\n",
       "      <td>2021</td>\n",
       "      <td>1</td>\n",
       "      <td>39</td>\n",
       "    </tr>\n",
       "    <tr>\n",
       "      <th>106</th>\n",
       "      <td>2021</td>\n",
       "      <td>53</td>\n",
       "      <td>20</td>\n",
       "    </tr>\n",
       "  </tbody>\n",
       "</table>\n",
       "</div>"
      ],
      "text/plain": [
       "     Year  Week  Pr4_Incidents\n",
       "102  2020    51             45\n",
       "103  2020    52             42\n",
       "104  2020    53             42\n",
       "105  2021     1             39\n",
       "106  2021    53             20"
      ]
     },
     "execution_count": 66,
     "metadata": {},
     "output_type": "execute_result"
    }
   ],
   "source": [
    "pr4.tail()"
   ]
  },
  {
   "cell_type": "code",
   "execution_count": 65,
   "metadata": {},
   "outputs": [],
   "source": [
    "pr4.loc[104,'Pr4_Incidents'] = 42"
   ]
  },
  {
   "cell_type": "code",
   "execution_count": 67,
   "metadata": {},
   "outputs": [
    {
     "data": {
      "text/html": [
       "<div>\n",
       "<style scoped>\n",
       "    .dataframe tbody tr th:only-of-type {\n",
       "        vertical-align: middle;\n",
       "    }\n",
       "\n",
       "    .dataframe tbody tr th {\n",
       "        vertical-align: top;\n",
       "    }\n",
       "\n",
       "    .dataframe thead th {\n",
       "        text-align: right;\n",
       "    }\n",
       "</style>\n",
       "<table border=\"1\" class=\"dataframe\">\n",
       "  <thead>\n",
       "    <tr style=\"text-align: right;\">\n",
       "      <th></th>\n",
       "      <th>Year</th>\n",
       "      <th>Week</th>\n",
       "      <th>Pr4_Incidents</th>\n",
       "    </tr>\n",
       "  </thead>\n",
       "  <tbody>\n",
       "    <tr>\n",
       "      <th>count</th>\n",
       "      <td>107.00000</td>\n",
       "      <td>107.000000</td>\n",
       "      <td>107.000000</td>\n",
       "    </tr>\n",
       "    <tr>\n",
       "      <th>mean</th>\n",
       "      <td>2019.53271</td>\n",
       "      <td>26.757009</td>\n",
       "      <td>32.196262</td>\n",
       "    </tr>\n",
       "    <tr>\n",
       "      <th>std</th>\n",
       "      <td>0.53760</td>\n",
       "      <td>15.502186</td>\n",
       "      <td>10.040897</td>\n",
       "    </tr>\n",
       "    <tr>\n",
       "      <th>min</th>\n",
       "      <td>2019.00000</td>\n",
       "      <td>1.000000</td>\n",
       "      <td>1.000000</td>\n",
       "    </tr>\n",
       "    <tr>\n",
       "      <th>25%</th>\n",
       "      <td>2019.00000</td>\n",
       "      <td>13.500000</td>\n",
       "      <td>27.000000</td>\n",
       "    </tr>\n",
       "    <tr>\n",
       "      <th>50%</th>\n",
       "      <td>2020.00000</td>\n",
       "      <td>27.000000</td>\n",
       "      <td>32.000000</td>\n",
       "    </tr>\n",
       "    <tr>\n",
       "      <th>75%</th>\n",
       "      <td>2020.00000</td>\n",
       "      <td>40.000000</td>\n",
       "      <td>36.000000</td>\n",
       "    </tr>\n",
       "    <tr>\n",
       "      <th>max</th>\n",
       "      <td>2021.00000</td>\n",
       "      <td>53.000000</td>\n",
       "      <td>62.000000</td>\n",
       "    </tr>\n",
       "  </tbody>\n",
       "</table>\n",
       "</div>"
      ],
      "text/plain": [
       "             Year        Week  Pr4_Incidents\n",
       "count   107.00000  107.000000     107.000000\n",
       "mean   2019.53271   26.757009      32.196262\n",
       "std       0.53760   15.502186      10.040897\n",
       "min    2019.00000    1.000000       1.000000\n",
       "25%    2019.00000   13.500000      27.000000\n",
       "50%    2020.00000   27.000000      32.000000\n",
       "75%    2020.00000   40.000000      36.000000\n",
       "max    2021.00000   53.000000      62.000000"
      ]
     },
     "execution_count": 67,
     "metadata": {},
     "output_type": "execute_result"
    }
   ],
   "source": [
    "pr4.describe()"
   ]
  },
  {
   "cell_type": "code",
   "execution_count": 35,
   "metadata": {},
   "outputs": [],
   "source": [
    "#pr4.query(\"Pr4_Incidents == 1\")"
   ]
  },
  {
   "cell_type": "code",
   "execution_count": 36,
   "metadata": {},
   "outputs": [],
   "source": [
    "#pr4.loc[52,'Pr4_Incidents'] = 32"
   ]
  },
  {
   "cell_type": "code",
   "execution_count": 68,
   "metadata": {},
   "outputs": [],
   "source": [
    "cov = pd.read_excel(\"/Users/holliknight/Desktop/OneDrive - Prince George's County, Maryland/FirstWatch Data/COVID related/PUI_2020All.xlsx\")"
   ]
  },
  {
   "cell_type": "code",
   "execution_count": 71,
   "metadata": {},
   "outputs": [
    {
     "data": {
      "text/plain": [
       "(8599, 43)"
      ]
     },
     "execution_count": 71,
     "metadata": {},
     "output_type": "execute_result"
    }
   ],
   "source": [
    "cov.shape"
   ]
  },
  {
   "cell_type": "code",
   "execution_count": 70,
   "metadata": {},
   "outputs": [],
   "source": [
    "cov = cov.drop_duplicates(subset='Master_Incident_Number', keep=\"first\")"
   ]
  },
  {
   "cell_type": "code",
   "execution_count": 72,
   "metadata": {},
   "outputs": [],
   "source": [
    "cov['Time_CallEnteredQueue'] = cov['Time_CallEnteredQueue'].astype(str)"
   ]
  },
  {
   "cell_type": "code",
   "execution_count": 73,
   "metadata": {},
   "outputs": [],
   "source": [
    "cov = cov[['Time_CallEnteredQueue', 'Master_Incident_Number']]\n",
    "\n",
    "cov = cov.drop_duplicates(subset='Master_Incident_Number', keep=\"first\")\n",
    "\n",
    "cov[['DateCreated','TimeCreated']] = cov['Time_CallEnteredQueue'].str.split(' ',expand=True)\n",
    "\n",
    "cov = cov[['DateCreated', 'Master_Incident_Number']]\n",
    "cov.columns = ['Date', 'Cov_Incidents']\n",
    "\n",
    "cov['Date'] = pd.to_datetime(cov['Date'])\n",
    "\n",
    "#cov['Year'] = cov['Date'].dt.year\n",
    "#cov['Week'] = cov['Date'].dt.week"
   ]
  },
  {
   "cell_type": "code",
   "execution_count": 74,
   "metadata": {},
   "outputs": [],
   "source": [
    "cov['Year'] = cov['Date'].dt.year\n",
    "cov['Week'] = cov['Date'].dt.week"
   ]
  },
  {
   "cell_type": "code",
   "execution_count": 75,
   "metadata": {
    "scrolled": false
   },
   "outputs": [],
   "source": [
    "cov = cov.groupby(['Year', 'Week'],as_index=False)[\"Cov_Incidents\"].count()\n",
    "\n",
    "#cov = cov.sort_values(\n",
    "    #by=['Year', 'Date'], ascending=True)\n"
   ]
  },
  {
   "cell_type": "code",
   "execution_count": 79,
   "metadata": {
    "scrolled": true
   },
   "outputs": [
    {
     "data": {
      "text/html": [
       "<div>\n",
       "<style scoped>\n",
       "    .dataframe tbody tr th:only-of-type {\n",
       "        vertical-align: middle;\n",
       "    }\n",
       "\n",
       "    .dataframe tbody tr th {\n",
       "        vertical-align: top;\n",
       "    }\n",
       "\n",
       "    .dataframe thead th {\n",
       "        text-align: right;\n",
       "    }\n",
       "</style>\n",
       "<table border=\"1\" class=\"dataframe\">\n",
       "  <thead>\n",
       "    <tr style=\"text-align: right;\">\n",
       "      <th></th>\n",
       "      <th>Year</th>\n",
       "      <th>Week</th>\n",
       "      <th>Cov_Incidents</th>\n",
       "    </tr>\n",
       "  </thead>\n",
       "  <tbody>\n",
       "    <tr>\n",
       "      <th>48</th>\n",
       "      <td>2020</td>\n",
       "      <td>51</td>\n",
       "      <td>268</td>\n",
       "    </tr>\n",
       "    <tr>\n",
       "      <th>49</th>\n",
       "      <td>2020</td>\n",
       "      <td>52</td>\n",
       "      <td>282</td>\n",
       "    </tr>\n",
       "    <tr>\n",
       "      <th>50</th>\n",
       "      <td>2020</td>\n",
       "      <td>53</td>\n",
       "      <td>253</td>\n",
       "    </tr>\n",
       "    <tr>\n",
       "      <th>51</th>\n",
       "      <td>2021</td>\n",
       "      <td>1</td>\n",
       "      <td>259</td>\n",
       "    </tr>\n",
       "    <tr>\n",
       "      <th>52</th>\n",
       "      <td>2021</td>\n",
       "      <td>53</td>\n",
       "      <td>115</td>\n",
       "    </tr>\n",
       "  </tbody>\n",
       "</table>\n",
       "</div>"
      ],
      "text/plain": [
       "    Year  Week  Cov_Incidents\n",
       "48  2020    51            268\n",
       "49  2020    52            282\n",
       "50  2020    53            253\n",
       "51  2021     1            259\n",
       "52  2021    53            115"
      ]
     },
     "execution_count": 79,
     "metadata": {},
     "output_type": "execute_result"
    }
   ],
   "source": [
    "cov.tail()"
   ]
  },
  {
   "cell_type": "code",
   "execution_count": 78,
   "metadata": {},
   "outputs": [],
   "source": [
    "cov.loc[50,'Cov_Incidents'] = 253"
   ]
  },
  {
   "cell_type": "code",
   "execution_count": 82,
   "metadata": {},
   "outputs": [],
   "source": [
    "ca['Interval'] = np.arange(len(ca['Year']))"
   ]
  },
  {
   "cell_type": "code",
   "execution_count": 83,
   "metadata": {},
   "outputs": [],
   "source": [
    "pr4['Interval'] = np.arange(len(pr4['Year']))"
   ]
  },
  {
   "cell_type": "code",
   "execution_count": 84,
   "metadata": {},
   "outputs": [],
   "source": [
    "ca_pr4 = ca.join(pr4, on='Interval', lsuffix='ca', rsuffix='pr4')"
   ]
  },
  {
   "cell_type": "code",
   "execution_count": 85,
   "metadata": {},
   "outputs": [
    {
     "data": {
      "text/html": [
       "<div>\n",
       "<style scoped>\n",
       "    .dataframe tbody tr th:only-of-type {\n",
       "        vertical-align: middle;\n",
       "    }\n",
       "\n",
       "    .dataframe tbody tr th {\n",
       "        vertical-align: top;\n",
       "    }\n",
       "\n",
       "    .dataframe thead th {\n",
       "        text-align: right;\n",
       "    }\n",
       "</style>\n",
       "<table border=\"1\" class=\"dataframe\">\n",
       "  <thead>\n",
       "    <tr style=\"text-align: right;\">\n",
       "      <th></th>\n",
       "      <th>Yearca</th>\n",
       "      <th>Weekca</th>\n",
       "      <th>Cardiac_Incidents</th>\n",
       "      <th>Intervalca</th>\n",
       "      <th>Yearpr4</th>\n",
       "      <th>Weekpr4</th>\n",
       "      <th>Pr4_Incidents</th>\n",
       "      <th>Intervalpr4</th>\n",
       "    </tr>\n",
       "  </thead>\n",
       "  <tbody>\n",
       "    <tr>\n",
       "      <th>102</th>\n",
       "      <td>2020</td>\n",
       "      <td>51</td>\n",
       "      <td>60</td>\n",
       "      <td>102</td>\n",
       "      <td>2020</td>\n",
       "      <td>51</td>\n",
       "      <td>45</td>\n",
       "      <td>102</td>\n",
       "    </tr>\n",
       "    <tr>\n",
       "      <th>103</th>\n",
       "      <td>2020</td>\n",
       "      <td>52</td>\n",
       "      <td>42</td>\n",
       "      <td>103</td>\n",
       "      <td>2020</td>\n",
       "      <td>52</td>\n",
       "      <td>42</td>\n",
       "      <td>103</td>\n",
       "    </tr>\n",
       "    <tr>\n",
       "      <th>104</th>\n",
       "      <td>2020</td>\n",
       "      <td>53</td>\n",
       "      <td>42</td>\n",
       "      <td>104</td>\n",
       "      <td>2020</td>\n",
       "      <td>53</td>\n",
       "      <td>42</td>\n",
       "      <td>104</td>\n",
       "    </tr>\n",
       "    <tr>\n",
       "      <th>105</th>\n",
       "      <td>2021</td>\n",
       "      <td>1</td>\n",
       "      <td>46</td>\n",
       "      <td>105</td>\n",
       "      <td>2021</td>\n",
       "      <td>1</td>\n",
       "      <td>39</td>\n",
       "      <td>105</td>\n",
       "    </tr>\n",
       "    <tr>\n",
       "      <th>106</th>\n",
       "      <td>2021</td>\n",
       "      <td>53</td>\n",
       "      <td>19</td>\n",
       "      <td>106</td>\n",
       "      <td>2021</td>\n",
       "      <td>53</td>\n",
       "      <td>20</td>\n",
       "      <td>106</td>\n",
       "    </tr>\n",
       "  </tbody>\n",
       "</table>\n",
       "</div>"
      ],
      "text/plain": [
       "     Yearca  Weekca  Cardiac_Incidents  Intervalca  Yearpr4  Weekpr4  \\\n",
       "102    2020      51                 60         102     2020       51   \n",
       "103    2020      52                 42         103     2020       52   \n",
       "104    2020      53                 42         104     2020       53   \n",
       "105    2021       1                 46         105     2021        1   \n",
       "106    2021      53                 19         106     2021       53   \n",
       "\n",
       "     Pr4_Incidents  Intervalpr4  \n",
       "102             45          102  \n",
       "103             42          103  \n",
       "104             42          104  \n",
       "105             39          105  \n",
       "106             20          106  "
      ]
     },
     "execution_count": 85,
     "metadata": {},
     "output_type": "execute_result"
    }
   ],
   "source": [
    "ca_pr4.tail()"
   ]
  },
  {
   "cell_type": "code",
   "execution_count": 86,
   "metadata": {},
   "outputs": [],
   "source": [
    "ca_pr4 = ca_pr4[['Yearca','Weekca','Cardiac_Incidents', 'Pr4_Incidents']]"
   ]
  },
  {
   "cell_type": "code",
   "execution_count": 87,
   "metadata": {},
   "outputs": [
    {
     "data": {
      "text/html": [
       "<div>\n",
       "<style scoped>\n",
       "    .dataframe tbody tr th:only-of-type {\n",
       "        vertical-align: middle;\n",
       "    }\n",
       "\n",
       "    .dataframe tbody tr th {\n",
       "        vertical-align: top;\n",
       "    }\n",
       "\n",
       "    .dataframe thead th {\n",
       "        text-align: right;\n",
       "    }\n",
       "</style>\n",
       "<table border=\"1\" class=\"dataframe\">\n",
       "  <thead>\n",
       "    <tr style=\"text-align: right;\">\n",
       "      <th></th>\n",
       "      <th>Yearca</th>\n",
       "      <th>Weekca</th>\n",
       "      <th>Cardiac_Incidents</th>\n",
       "      <th>Pr4_Incidents</th>\n",
       "    </tr>\n",
       "  </thead>\n",
       "  <tbody>\n",
       "    <tr>\n",
       "      <th>0</th>\n",
       "      <td>2019</td>\n",
       "      <td>1</td>\n",
       "      <td>42</td>\n",
       "      <td>29</td>\n",
       "    </tr>\n",
       "    <tr>\n",
       "      <th>1</th>\n",
       "      <td>2019</td>\n",
       "      <td>2</td>\n",
       "      <td>32</td>\n",
       "      <td>29</td>\n",
       "    </tr>\n",
       "    <tr>\n",
       "      <th>2</th>\n",
       "      <td>2019</td>\n",
       "      <td>3</td>\n",
       "      <td>33</td>\n",
       "      <td>28</td>\n",
       "    </tr>\n",
       "    <tr>\n",
       "      <th>3</th>\n",
       "      <td>2019</td>\n",
       "      <td>4</td>\n",
       "      <td>42</td>\n",
       "      <td>35</td>\n",
       "    </tr>\n",
       "    <tr>\n",
       "      <th>4</th>\n",
       "      <td>2019</td>\n",
       "      <td>5</td>\n",
       "      <td>43</td>\n",
       "      <td>35</td>\n",
       "    </tr>\n",
       "  </tbody>\n",
       "</table>\n",
       "</div>"
      ],
      "text/plain": [
       "   Yearca  Weekca  Cardiac_Incidents  Pr4_Incidents\n",
       "0    2019       1                 42             29\n",
       "1    2019       2                 32             29\n",
       "2    2019       3                 33             28\n",
       "3    2019       4                 42             35\n",
       "4    2019       5                 43             35"
      ]
     },
     "execution_count": 87,
     "metadata": {},
     "output_type": "execute_result"
    }
   ],
   "source": [
    "ca_pr4.head()"
   ]
  },
  {
   "cell_type": "code",
   "execution_count": 88,
   "metadata": {},
   "outputs": [],
   "source": [
    "df = pd.merge(ca_pr4, cov,  how='left', left_on=['Yearca','Weekca'], right_on = ['Year','Week'])"
   ]
  },
  {
   "cell_type": "code",
   "execution_count": 89,
   "metadata": {},
   "outputs": [
    {
     "data": {
      "text/html": [
       "<div>\n",
       "<style scoped>\n",
       "    .dataframe tbody tr th:only-of-type {\n",
       "        vertical-align: middle;\n",
       "    }\n",
       "\n",
       "    .dataframe tbody tr th {\n",
       "        vertical-align: top;\n",
       "    }\n",
       "\n",
       "    .dataframe thead th {\n",
       "        text-align: right;\n",
       "    }\n",
       "</style>\n",
       "<table border=\"1\" class=\"dataframe\">\n",
       "  <thead>\n",
       "    <tr style=\"text-align: right;\">\n",
       "      <th></th>\n",
       "      <th>Yearca</th>\n",
       "      <th>Weekca</th>\n",
       "      <th>Cardiac_Incidents</th>\n",
       "      <th>Pr4_Incidents</th>\n",
       "      <th>Year</th>\n",
       "      <th>Week</th>\n",
       "      <th>Cov_Incidents</th>\n",
       "    </tr>\n",
       "  </thead>\n",
       "  <tbody>\n",
       "    <tr>\n",
       "      <th>0</th>\n",
       "      <td>2019</td>\n",
       "      <td>1</td>\n",
       "      <td>42</td>\n",
       "      <td>29</td>\n",
       "      <td>NaN</td>\n",
       "      <td>NaN</td>\n",
       "      <td>NaN</td>\n",
       "    </tr>\n",
       "    <tr>\n",
       "      <th>1</th>\n",
       "      <td>2019</td>\n",
       "      <td>2</td>\n",
       "      <td>32</td>\n",
       "      <td>29</td>\n",
       "      <td>NaN</td>\n",
       "      <td>NaN</td>\n",
       "      <td>NaN</td>\n",
       "    </tr>\n",
       "    <tr>\n",
       "      <th>2</th>\n",
       "      <td>2019</td>\n",
       "      <td>3</td>\n",
       "      <td>33</td>\n",
       "      <td>28</td>\n",
       "      <td>NaN</td>\n",
       "      <td>NaN</td>\n",
       "      <td>NaN</td>\n",
       "    </tr>\n",
       "    <tr>\n",
       "      <th>3</th>\n",
       "      <td>2019</td>\n",
       "      <td>4</td>\n",
       "      <td>42</td>\n",
       "      <td>35</td>\n",
       "      <td>NaN</td>\n",
       "      <td>NaN</td>\n",
       "      <td>NaN</td>\n",
       "    </tr>\n",
       "    <tr>\n",
       "      <th>4</th>\n",
       "      <td>2019</td>\n",
       "      <td>5</td>\n",
       "      <td>43</td>\n",
       "      <td>35</td>\n",
       "      <td>NaN</td>\n",
       "      <td>NaN</td>\n",
       "      <td>NaN</td>\n",
       "    </tr>\n",
       "  </tbody>\n",
       "</table>\n",
       "</div>"
      ],
      "text/plain": [
       "   Yearca  Weekca  Cardiac_Incidents  Pr4_Incidents  Year  Week  Cov_Incidents\n",
       "0    2019       1                 42             29   NaN   NaN            NaN\n",
       "1    2019       2                 32             29   NaN   NaN            NaN\n",
       "2    2019       3                 33             28   NaN   NaN            NaN\n",
       "3    2019       4                 42             35   NaN   NaN            NaN\n",
       "4    2019       5                 43             35   NaN   NaN            NaN"
      ]
     },
     "execution_count": 89,
     "metadata": {},
     "output_type": "execute_result"
    }
   ],
   "source": [
    "df.head()"
   ]
  },
  {
   "cell_type": "code",
   "execution_count": 90,
   "metadata": {},
   "outputs": [
    {
     "data": {
      "text/html": [
       "<div>\n",
       "<style scoped>\n",
       "    .dataframe tbody tr th:only-of-type {\n",
       "        vertical-align: middle;\n",
       "    }\n",
       "\n",
       "    .dataframe tbody tr th {\n",
       "        vertical-align: top;\n",
       "    }\n",
       "\n",
       "    .dataframe thead th {\n",
       "        text-align: right;\n",
       "    }\n",
       "</style>\n",
       "<table border=\"1\" class=\"dataframe\">\n",
       "  <thead>\n",
       "    <tr style=\"text-align: right;\">\n",
       "      <th></th>\n",
       "      <th>Yearca</th>\n",
       "      <th>Weekca</th>\n",
       "      <th>Cardiac_Incidents</th>\n",
       "      <th>Pr4_Incidents</th>\n",
       "      <th>Year</th>\n",
       "      <th>Week</th>\n",
       "      <th>Cov_Incidents</th>\n",
       "    </tr>\n",
       "  </thead>\n",
       "  <tbody>\n",
       "    <tr>\n",
       "      <th>102</th>\n",
       "      <td>2020</td>\n",
       "      <td>51</td>\n",
       "      <td>60</td>\n",
       "      <td>45</td>\n",
       "      <td>2020.0</td>\n",
       "      <td>51.0</td>\n",
       "      <td>268.0</td>\n",
       "    </tr>\n",
       "    <tr>\n",
       "      <th>103</th>\n",
       "      <td>2020</td>\n",
       "      <td>52</td>\n",
       "      <td>42</td>\n",
       "      <td>42</td>\n",
       "      <td>2020.0</td>\n",
       "      <td>52.0</td>\n",
       "      <td>282.0</td>\n",
       "    </tr>\n",
       "    <tr>\n",
       "      <th>104</th>\n",
       "      <td>2020</td>\n",
       "      <td>53</td>\n",
       "      <td>42</td>\n",
       "      <td>42</td>\n",
       "      <td>2020.0</td>\n",
       "      <td>53.0</td>\n",
       "      <td>253.0</td>\n",
       "    </tr>\n",
       "    <tr>\n",
       "      <th>105</th>\n",
       "      <td>2021</td>\n",
       "      <td>1</td>\n",
       "      <td>46</td>\n",
       "      <td>39</td>\n",
       "      <td>2021.0</td>\n",
       "      <td>1.0</td>\n",
       "      <td>259.0</td>\n",
       "    </tr>\n",
       "    <tr>\n",
       "      <th>106</th>\n",
       "      <td>2021</td>\n",
       "      <td>53</td>\n",
       "      <td>19</td>\n",
       "      <td>20</td>\n",
       "      <td>2021.0</td>\n",
       "      <td>53.0</td>\n",
       "      <td>115.0</td>\n",
       "    </tr>\n",
       "  </tbody>\n",
       "</table>\n",
       "</div>"
      ],
      "text/plain": [
       "     Yearca  Weekca  Cardiac_Incidents  Pr4_Incidents    Year  Week  \\\n",
       "102    2020      51                 60             45  2020.0  51.0   \n",
       "103    2020      52                 42             42  2020.0  52.0   \n",
       "104    2020      53                 42             42  2020.0  53.0   \n",
       "105    2021       1                 46             39  2021.0   1.0   \n",
       "106    2021      53                 19             20  2021.0  53.0   \n",
       "\n",
       "     Cov_Incidents  \n",
       "102          268.0  \n",
       "103          282.0  \n",
       "104          253.0  \n",
       "105          259.0  \n",
       "106          115.0  "
      ]
     },
     "execution_count": 90,
     "metadata": {},
     "output_type": "execute_result"
    }
   ],
   "source": [
    "df.tail()"
   ]
  },
  {
   "cell_type": "code",
   "execution_count": 91,
   "metadata": {},
   "outputs": [],
   "source": [
    "df.fillna(0, inplace=True)"
   ]
  },
  {
   "cell_type": "code",
   "execution_count": 92,
   "metadata": {},
   "outputs": [],
   "source": [
    "df = df[['Yearca','Weekca', 'Cardiac_Incidents', 'Pr4_Incidents', 'Cov_Incidents']]"
   ]
  },
  {
   "cell_type": "code",
   "execution_count": 98,
   "metadata": {
    "scrolled": true
   },
   "outputs": [
    {
     "data": {
      "text/html": [
       "<div>\n",
       "<style scoped>\n",
       "    .dataframe tbody tr th:only-of-type {\n",
       "        vertical-align: middle;\n",
       "    }\n",
       "\n",
       "    .dataframe tbody tr th {\n",
       "        vertical-align: top;\n",
       "    }\n",
       "\n",
       "    .dataframe thead th {\n",
       "        text-align: right;\n",
       "    }\n",
       "</style>\n",
       "<table border=\"1\" class=\"dataframe\">\n",
       "  <thead>\n",
       "    <tr style=\"text-align: right;\">\n",
       "      <th></th>\n",
       "      <th>Year</th>\n",
       "      <th>Week</th>\n",
       "      <th>Cardiac</th>\n",
       "      <th>Pr4</th>\n",
       "      <th>Cov</th>\n",
       "      <th>Interval</th>\n",
       "    </tr>\n",
       "  </thead>\n",
       "  <tbody>\n",
       "    <tr>\n",
       "      <th>102</th>\n",
       "      <td>2020</td>\n",
       "      <td>51</td>\n",
       "      <td>60</td>\n",
       "      <td>45</td>\n",
       "      <td>268.0</td>\n",
       "      <td>102</td>\n",
       "    </tr>\n",
       "    <tr>\n",
       "      <th>103</th>\n",
       "      <td>2020</td>\n",
       "      <td>52</td>\n",
       "      <td>42</td>\n",
       "      <td>42</td>\n",
       "      <td>282.0</td>\n",
       "      <td>103</td>\n",
       "    </tr>\n",
       "    <tr>\n",
       "      <th>104</th>\n",
       "      <td>2020</td>\n",
       "      <td>53</td>\n",
       "      <td>42</td>\n",
       "      <td>42</td>\n",
       "      <td>253.0</td>\n",
       "      <td>104</td>\n",
       "    </tr>\n",
       "    <tr>\n",
       "      <th>105</th>\n",
       "      <td>2021</td>\n",
       "      <td>1</td>\n",
       "      <td>46</td>\n",
       "      <td>39</td>\n",
       "      <td>259.0</td>\n",
       "      <td>105</td>\n",
       "    </tr>\n",
       "    <tr>\n",
       "      <th>106</th>\n",
       "      <td>2021</td>\n",
       "      <td>53</td>\n",
       "      <td>19</td>\n",
       "      <td>20</td>\n",
       "      <td>115.0</td>\n",
       "      <td>106</td>\n",
       "    </tr>\n",
       "  </tbody>\n",
       "</table>\n",
       "</div>"
      ],
      "text/plain": [
       "     Year  Week  Cardiac  Pr4    Cov  Interval\n",
       "102  2020    51       60   45  268.0       102\n",
       "103  2020    52       42   42  282.0       103\n",
       "104  2020    53       42   42  253.0       104\n",
       "105  2021     1       46   39  259.0       105\n",
       "106  2021    53       19   20  115.0       106"
      ]
     },
     "execution_count": 98,
     "metadata": {},
     "output_type": "execute_result"
    }
   ],
   "source": [
    "df.tail()"
   ]
  },
  {
   "cell_type": "code",
   "execution_count": 95,
   "metadata": {},
   "outputs": [],
   "source": [
    "df.columns = ['Year','Week','Cardiac', 'Pr4', 'Cov']"
   ]
  },
  {
   "cell_type": "code",
   "execution_count": 96,
   "metadata": {},
   "outputs": [],
   "source": [
    "df['Interval'] = np.arange(len(df['Year']))"
   ]
  },
  {
   "cell_type": "code",
   "execution_count": 99,
   "metadata": {},
   "outputs": [],
   "source": [
    "n=1\n",
    "df.drop(df.tail(n).index,inplace=True)"
   ]
  },
  {
   "cell_type": "code",
   "execution_count": 100,
   "metadata": {},
   "outputs": [
    {
     "data": {
      "text/plain": [
       "Year          int64\n",
       "Week          int64\n",
       "Cardiac       int64\n",
       "Pr4           int64\n",
       "Cov         float64\n",
       "Interval      int64\n",
       "dtype: object"
      ]
     },
     "execution_count": 100,
     "metadata": {},
     "output_type": "execute_result"
    }
   ],
   "source": [
    "df.dtypes"
   ]
  },
  {
   "cell_type": "code",
   "execution_count": 98,
   "metadata": {},
   "outputs": [],
   "source": [
    "#dates = (df['Date'] > \"2020-11-01\")\n",
    "#small_df = df.loc[dates]"
   ]
  },
  {
   "cell_type": "code",
   "execution_count": 111,
   "metadata": {},
   "outputs": [
    {
     "data": {
      "text/plain": [
       "Text(0.5,1,'Priority 4 Incidents')"
      ]
     },
     "execution_count": 111,
     "metadata": {},
     "output_type": "execute_result"
    },
    {
     "data": {
      "image/png": "[encoded data removed]",
      "text/plain": [
       "<Figure size 864x432 with 1 Axes>"
      ]
     },
     "metadata": {},
     "output_type": "display_data"
    }
   ],
   "source": [
    "import seaborn as sns\n",
    "sns.set_theme(style=\"whitegrid\")\n",
    "\n",
    "plt.rcParams[\"figure.figsize\"] = (12, 6)\n",
    "\n",
    "sns.lineplot(x=\"Interval\", y=\"Pr4\", #style=\"Year\",\n",
    "             data=df)\n",
    "#plt.ylim(0, 15)\n",
    "plt.title('Priority 4 Incidents')"
   ]
  },
  {
   "cell_type": "code",
   "execution_count": 112,
   "metadata": {},
   "outputs": [
    {
     "data": {
      "text/plain": [
       "Text(0.5,1,'Cardiac Arrest Incidents')"
      ]
     },
     "execution_count": 112,
     "metadata": {},
     "output_type": "execute_result"
    },
    {
     "data": {
      "image/png": "[encoded data removed]",
      "text/plain": [
       "<Figure size 864x432 with 1 Axes>"
      ]
     },
     "metadata": {},
     "output_type": "display_data"
    }
   ],
   "source": [
    "import seaborn as sns\n",
    "sns.set_theme(style=\"whitegrid\")\n",
    "\n",
    "plt.rcParams[\"figure.figsize\"] = (12, 6)\n",
    "\n",
    "sns.lineplot(x=\"Interval\", y=\"Cardiac\", #style=\"Year\", \n",
    "             color=\"Crimson\",\n",
    "             data=df)\n",
    "#plt.ylim(0, 15)\n",
    "plt.title('Cardiac Arrest Incidents')"
   ]
  },
  {
   "cell_type": "code",
   "execution_count": 101,
   "metadata": {
    "scrolled": false
   },
   "outputs": [
    {
     "data": {
      "image/png": "[encoded data removed]",
      "text/plain": [
       "<Figure size 960x480 with 1 Axes>"
      ]
     },
     "metadata": {},
     "output_type": "display_data"
    }
   ],
   "source": [
    "import numpy as np\n",
    "import matplotlib.pyplot as plt\n",
    "from matplotlib.pyplot import figure\n",
    "\n",
    "figure(num=None, figsize=(12, 6), dpi=80, facecolor='w', edgecolor='k')\n",
    "\n",
    "\n",
    "a = df['Interval']\n",
    "b = df['Cardiac']\n",
    "plt.plot(a, b)\n",
    "\n",
    "c = df['Interval']\n",
    "d = df['Pr4']\n",
    "plt.plot(c, d)\n",
    "\n",
    "e = df['Interval']\n",
    "f = df['Cov']\n",
    "plt.plot(e, f)\n",
    "\n",
    "\n",
    "plt.legend(['Cardiac Arrest Incidents', 'Priority 4 Incidents', 'PUIs'])\n",
    "plt.title('Incident Counts')\n",
    "#plt.xticks([12, 25, 38, 51, 64, 77, 90], \n",
    "           #['2019-Mar','2019-June', '2019-Sept','2019-Dec', '2020-Mar','2020-June', '2020-Oct'])\n",
    "\n",
    "plt.show()"
   ]
  },
  {
   "cell_type": "code",
   "execution_count": 102,
   "metadata": {},
   "outputs": [],
   "source": [
    "new_df = df[['Cardiac', 'Pr4', 'Cov']]"
   ]
  },
  {
   "cell_type": "code",
   "execution_count": 103,
   "metadata": {},
   "outputs": [],
   "source": [
    "from sklearn import preprocessing\n",
    "\n",
    "scaler = preprocessing.StandardScaler()\n",
    "scaled_df = scaler.fit_transform(new_df)\n",
    "scaled_df = pd.DataFrame(scaled_df, columns=['Cardiac', 'Pr4', 'Cov'])"
   ]
  },
  {
   "cell_type": "code",
   "execution_count": 107,
   "metadata": {},
   "outputs": [
    {
     "data": {
      "text/html": [
       "<div>\n",
       "<style scoped>\n",
       "    .dataframe tbody tr th:only-of-type {\n",
       "        vertical-align: middle;\n",
       "    }\n",
       "\n",
       "    .dataframe tbody tr th {\n",
       "        vertical-align: top;\n",
       "    }\n",
       "\n",
       "    .dataframe thead th {\n",
       "        text-align: right;\n",
       "    }\n",
       "</style>\n",
       "<table border=\"1\" class=\"dataframe\">\n",
       "  <thead>\n",
       "    <tr style=\"text-align: right;\">\n",
       "      <th></th>\n",
       "      <th>Cardiac</th>\n",
       "      <th>Pr4</th>\n",
       "      <th>Cov</th>\n",
       "      <th>Interval</th>\n",
       "    </tr>\n",
       "  </thead>\n",
       "  <tbody>\n",
       "    <tr>\n",
       "      <th>101</th>\n",
       "      <td>-0.372526</td>\n",
       "      <td>-0.031225</td>\n",
       "      <td>1.594962</td>\n",
       "      <td>101</td>\n",
       "    </tr>\n",
       "    <tr>\n",
       "      <th>102</th>\n",
       "      <td>2.346689</td>\n",
       "      <td>1.272672</td>\n",
       "      <td>1.647870</td>\n",
       "      <td>102</td>\n",
       "    </tr>\n",
       "    <tr>\n",
       "      <th>103</th>\n",
       "      <td>0.218608</td>\n",
       "      <td>0.971773</td>\n",
       "      <td>1.771321</td>\n",
       "      <td>103</td>\n",
       "    </tr>\n",
       "    <tr>\n",
       "      <th>104</th>\n",
       "      <td>0.218608</td>\n",
       "      <td>0.971773</td>\n",
       "      <td>1.515601</td>\n",
       "      <td>104</td>\n",
       "    </tr>\n",
       "    <tr>\n",
       "      <th>105</th>\n",
       "      <td>0.691515</td>\n",
       "      <td>0.670873</td>\n",
       "      <td>1.568509</td>\n",
       "      <td>105</td>\n",
       "    </tr>\n",
       "  </tbody>\n",
       "</table>\n",
       "</div>"
      ],
      "text/plain": [
       "      Cardiac       Pr4       Cov  Interval\n",
       "101 -0.372526 -0.031225  1.594962       101\n",
       "102  2.346689  1.272672  1.647870       102\n",
       "103  0.218608  0.971773  1.771321       103\n",
       "104  0.218608  0.971773  1.515601       104\n",
       "105  0.691515  0.670873  1.568509       105"
      ]
     },
     "execution_count": 107,
     "metadata": {},
     "output_type": "execute_result"
    }
   ],
   "source": [
    "scaled_df.tail()"
   ]
  },
  {
   "cell_type": "code",
   "execution_count": 105,
   "metadata": {},
   "outputs": [],
   "source": [
    "scaled_df['Interval'] = np.arange(len(scaled_df['Cardiac']))"
   ]
  },
  {
   "cell_type": "code",
   "execution_count": 108,
   "metadata": {},
   "outputs": [
    {
     "data": {
      "image/png": "[encoded data removed]",
      "text/plain": [
       "<Figure size 800x640 with 1 Axes>"
      ]
     },
     "metadata": {},
     "output_type": "display_data"
    }
   ],
   "source": [
    "figure(num=None, figsize=(10, 8), dpi=80, facecolor='w', edgecolor='k')\n",
    "\n",
    "\n",
    "a = scaled_df['Interval']\n",
    "b = scaled_df['Cardiac']\n",
    "plt.plot(a, b)\n",
    "\n",
    "c = scaled_df['Interval']\n",
    "d = scaled_df['Pr4']\n",
    "plt.plot(c, d)\n",
    "\n",
    "e = scaled_df['Interval']\n",
    "f = scaled_df['Cov']\n",
    "plt.plot(e, f)\n",
    "\n",
    "\n",
    "plt.legend(['Cardiac Arrest Incidents', 'Priority 4 Incidents', 'COVID Incidents'])\n",
    "plt.title('Stanardized: Incidents By Week, Jan. 1 2019 - Jan. 10, 2021')\n",
    "plt.xticks([12, 25, 38, 51, 64, 77, 90, 105], \n",
    "           ['2019-Mar','2019-June', '2019-Sept','2019-Dec', '2020-Mar','2020-June', '2020-Oct', '2021-Jan'])\n",
    "plt.ylabel('Standard Deviations from Average')\n",
    "\n",
    "\n",
    "plt.show()"
   ]
  },
  {
   "cell_type": "markdown",
   "metadata": {},
   "source": [
    "## Cardiac Arrests, Priority 4 Comparison"
   ]
  },
  {
   "cell_type": "code",
   "execution_count": 91,
   "metadata": {},
   "outputs": [],
   "source": [
    "n=1\n",
    "ca.drop(ca.tail(n).index,inplace=True)"
   ]
  },
  {
   "cell_type": "code",
   "execution_count": 98,
   "metadata": {},
   "outputs": [],
   "source": [
    "n=1\n",
    "pr4.drop(pr4.tail(n).index,inplace=True)"
   ]
  },
  {
   "cell_type": "code",
   "execution_count": 99,
   "metadata": {},
   "outputs": [],
   "source": [
    "ca20 = ca.loc[ca['Year'] == 2020]\n",
    "ca19 = ca.loc[ca['Year'] == 2019]"
   ]
  },
  {
   "cell_type": "code",
   "execution_count": 100,
   "metadata": {
    "scrolled": true
   },
   "outputs": [
    {
     "data": {
      "text/html": [
       "<div>\n",
       "<style scoped>\n",
       "    .dataframe tbody tr th:only-of-type {\n",
       "        vertical-align: middle;\n",
       "    }\n",
       "\n",
       "    .dataframe tbody tr th {\n",
       "        vertical-align: top;\n",
       "    }\n",
       "\n",
       "    .dataframe thead th {\n",
       "        text-align: right;\n",
       "    }\n",
       "</style>\n",
       "<table border=\"1\" class=\"dataframe\">\n",
       "  <thead>\n",
       "    <tr style=\"text-align: right;\">\n",
       "      <th></th>\n",
       "      <th>Year</th>\n",
       "      <th>Week</th>\n",
       "      <th>Cardiac_Incidents</th>\n",
       "      <th>Interval</th>\n",
       "    </tr>\n",
       "  </thead>\n",
       "  <tbody>\n",
       "    <tr>\n",
       "      <th>99</th>\n",
       "      <td>2020</td>\n",
       "      <td>48</td>\n",
       "      <td>42</td>\n",
       "      <td>99</td>\n",
       "    </tr>\n",
       "    <tr>\n",
       "      <th>100</th>\n",
       "      <td>2020</td>\n",
       "      <td>49</td>\n",
       "      <td>53</td>\n",
       "      <td>100</td>\n",
       "    </tr>\n",
       "    <tr>\n",
       "      <th>101</th>\n",
       "      <td>2020</td>\n",
       "      <td>50</td>\n",
       "      <td>37</td>\n",
       "      <td>101</td>\n",
       "    </tr>\n",
       "    <tr>\n",
       "      <th>102</th>\n",
       "      <td>2020</td>\n",
       "      <td>51</td>\n",
       "      <td>60</td>\n",
       "      <td>102</td>\n",
       "    </tr>\n",
       "    <tr>\n",
       "      <th>103</th>\n",
       "      <td>2020</td>\n",
       "      <td>52</td>\n",
       "      <td>42</td>\n",
       "      <td>103</td>\n",
       "    </tr>\n",
       "  </tbody>\n",
       "</table>\n",
       "</div>"
      ],
      "text/plain": [
       "     Year  Week  Cardiac_Incidents  Interval\n",
       "99   2020    48                 42        99\n",
       "100  2020    49                 53       100\n",
       "101  2020    50                 37       101\n",
       "102  2020    51                 60       102\n",
       "103  2020    52                 42       103"
      ]
     },
     "execution_count": 100,
     "metadata": {},
     "output_type": "execute_result"
    }
   ],
   "source": [
    "ca20.tail()"
   ]
  },
  {
   "cell_type": "code",
   "execution_count": 101,
   "metadata": {},
   "outputs": [],
   "source": [
    "pr20 = pr4.loc[pr4['Year'] == 2020]\n",
    "pr19 = pr4.loc[pr4['Year'] == 2019]"
   ]
  },
  {
   "cell_type": "code",
   "execution_count": 102,
   "metadata": {},
   "outputs": [
    {
     "data": {
      "text/html": [
       "<div>\n",
       "<style scoped>\n",
       "    .dataframe tbody tr th:only-of-type {\n",
       "        vertical-align: middle;\n",
       "    }\n",
       "\n",
       "    .dataframe tbody tr th {\n",
       "        vertical-align: top;\n",
       "    }\n",
       "\n",
       "    .dataframe thead th {\n",
       "        text-align: right;\n",
       "    }\n",
       "</style>\n",
       "<table border=\"1\" class=\"dataframe\">\n",
       "  <thead>\n",
       "    <tr style=\"text-align: right;\">\n",
       "      <th></th>\n",
       "      <th>Year</th>\n",
       "      <th>Week</th>\n",
       "      <th>Pr4_Incidents</th>\n",
       "      <th>Interval</th>\n",
       "    </tr>\n",
       "  </thead>\n",
       "  <tbody>\n",
       "    <tr>\n",
       "      <th>99</th>\n",
       "      <td>2020</td>\n",
       "      <td>48</td>\n",
       "      <td>26</td>\n",
       "      <td>99</td>\n",
       "    </tr>\n",
       "    <tr>\n",
       "      <th>100</th>\n",
       "      <td>2020</td>\n",
       "      <td>49</td>\n",
       "      <td>39</td>\n",
       "      <td>100</td>\n",
       "    </tr>\n",
       "    <tr>\n",
       "      <th>101</th>\n",
       "      <td>2020</td>\n",
       "      <td>50</td>\n",
       "      <td>32</td>\n",
       "      <td>101</td>\n",
       "    </tr>\n",
       "    <tr>\n",
       "      <th>102</th>\n",
       "      <td>2020</td>\n",
       "      <td>51</td>\n",
       "      <td>45</td>\n",
       "      <td>102</td>\n",
       "    </tr>\n",
       "    <tr>\n",
       "      <th>103</th>\n",
       "      <td>2020</td>\n",
       "      <td>52</td>\n",
       "      <td>42</td>\n",
       "      <td>103</td>\n",
       "    </tr>\n",
       "  </tbody>\n",
       "</table>\n",
       "</div>"
      ],
      "text/plain": [
       "     Year  Week  Pr4_Incidents  Interval\n",
       "99   2020    48             26        99\n",
       "100  2020    49             39       100\n",
       "101  2020    50             32       101\n",
       "102  2020    51             45       102\n",
       "103  2020    52             42       103"
      ]
     },
     "execution_count": 102,
     "metadata": {},
     "output_type": "execute_result"
    }
   ],
   "source": [
    "pr20.tail()"
   ]
  },
  {
   "cell_type": "code",
   "execution_count": 103,
   "metadata": {},
   "outputs": [],
   "source": [
    "CA_avg19 = ca19['Cardiac_Incidents'].mean()\n",
    "CA_avg20 = ca20['Cardiac_Incidents'].mean()\n",
    "\n",
    "Pr4_avg19 = pr19['Pr4_Incidents'].mean()\n",
    "Pr4_avg20 = pr20['Pr4_Incidents'].mean()"
   ]
  },
  {
   "cell_type": "code",
   "execution_count": 104,
   "metadata": {},
   "outputs": [
    {
     "name": "stdout",
     "output_type": "stream",
     "text": [
      "36.80769230769231\n",
      "43.34615384615385\n",
      "28.596153846153847\n",
      "35.71153846153846\n"
     ]
    }
   ],
   "source": [
    "print(CA_avg19)\n",
    "print(CA_avg20)\n",
    "print(Pr4_avg19)\n",
    "print(Pr4_avg20)"
   ]
  },
  {
   "cell_type": "code",
   "execution_count": 105,
   "metadata": {},
   "outputs": [],
   "source": [
    "CA_change = (CA_avg20 - CA_avg19)/CA_avg19\n",
    "Pr4_change = (Pr4_avg20 - Pr4_avg19)/Pr4_avg19"
   ]
  },
  {
   "cell_type": "code",
   "execution_count": 106,
   "metadata": {},
   "outputs": [
    {
     "name": "stdout",
     "output_type": "stream",
     "text": [
      "0.17763845350052251\n",
      "0.2488231338264962\n"
     ]
    }
   ],
   "source": [
    "print(CA_change)\n",
    "print(Pr4_change)"
   ]
  },
  {
   "cell_type": "code",
   "execution_count": 118,
   "metadata": {},
   "outputs": [],
   "source": [
    "pr = pd.read_excel(\"/Users/holliknight/Desktop/OneDrive - Prince George's County, Maryland/FirstWatch Data/COVID related/ePCR_2019_2020All.xlsx\")"
   ]
  },
  {
   "cell_type": "code",
   "execution_count": 119,
   "metadata": {},
   "outputs": [
    {
     "data": {
      "text/html": [
       "<div>\n",
       "<style scoped>\n",
       "    .dataframe tbody tr th:only-of-type {\n",
       "        vertical-align: middle;\n",
       "    }\n",
       "\n",
       "    .dataframe tbody tr th {\n",
       "        vertical-align: top;\n",
       "    }\n",
       "\n",
       "    .dataframe thead th {\n",
       "        text-align: right;\n",
       "    }\n",
       "</style>\n",
       "<table border=\"1\" class=\"dataframe\">\n",
       "  <thead>\n",
       "    <tr style=\"text-align: right;\">\n",
       "      <th></th>\n",
       "      <th>Time Dispatched</th>\n",
       "      <th>Problem</th>\n",
       "      <th>Priority</th>\n",
       "      <th>EMD Card#</th>\n",
       "      <th>Unit</th>\n",
       "      <th>Incident #</th>\n",
       "      <th>Address/Location</th>\n",
       "      <th>City</th>\n",
       "      <th>Zip</th>\n",
       "      <th>Incident Location Type</th>\n",
       "      <th>Destination</th>\n",
       "      <th>GPS Locations</th>\n",
       "      <th>Disposition</th>\n",
       "      <th>Age</th>\n",
       "      <th>Gender</th>\n",
       "    </tr>\n",
       "  </thead>\n",
       "  <tbody>\n",
       "    <tr>\n",
       "      <th>0</th>\n",
       "      <td>2019-01-01 00:01:05</td>\n",
       "      <td>Unknown Problem/Person Down</td>\n",
       "      <td>NaN</td>\n",
       "      <td>NaN</td>\n",
       "      <td>A826</td>\n",
       "      <td>19010100000001</td>\n",
       "      <td>2323 BARKLEY PL</td>\n",
       "      <td>Forestville</td>\n",
       "      <td>20747.0</td>\n",
       "      <td>Private Residence</td>\n",
       "      <td>NaN</td>\n",
       "      <td>38.858391,-76.911763</td>\n",
       "      <td>Patient Treated, Released (AMA)</td>\n",
       "      <td>75 Years</td>\n",
       "      <td>Male</td>\n",
       "    </tr>\n",
       "    <tr>\n",
       "      <th>1</th>\n",
       "      <td>2019-01-01 00:01:37</td>\n",
       "      <td>Diabetic Problem</td>\n",
       "      <td>NaN</td>\n",
       "      <td>NaN</td>\n",
       "      <td>MD840</td>\n",
       "      <td>19010100000002</td>\n",
       "      <td>11822 PARK WALDORF LA</td>\n",
       "      <td>NaN</td>\n",
       "      <td>NaN</td>\n",
       "      <td>NaN</td>\n",
       "      <td>NaN</td>\n",
       "      <td>NaN</td>\n",
       "      <td>Canceled (Prior to Arrival At Scene)</td>\n",
       "      <td></td>\n",
       "      <td>NaN</td>\n",
       "    </tr>\n",
       "    <tr>\n",
       "      <th>2</th>\n",
       "      <td>2019-01-01 00:01:49</td>\n",
       "      <td>Unconscious/Fainting/Near-Fainting</td>\n",
       "      <td>NaN</td>\n",
       "      <td>NaN</td>\n",
       "      <td>A825</td>\n",
       "      <td>19010100000003</td>\n",
       "      <td>7520 SURRATTS RD</td>\n",
       "      <td>Clinton</td>\n",
       "      <td>20735.0</td>\n",
       "      <td>Nursing Home</td>\n",
       "      <td>NaN</td>\n",
       "      <td>38.751505,-76.875331</td>\n",
       "      <td>Standby-Public Safety, Fire, or EMS Operationa...</td>\n",
       "      <td></td>\n",
       "      <td>NaN</td>\n",
       "    </tr>\n",
       "    <tr>\n",
       "      <th>3</th>\n",
       "      <td>2019-01-01 00:01:49</td>\n",
       "      <td>Unconscious/Fainting/Near-Fainting</td>\n",
       "      <td>NaN</td>\n",
       "      <td>NaN</td>\n",
       "      <td>MD825</td>\n",
       "      <td>19010100000003</td>\n",
       "      <td>7520 SURRATTS RD</td>\n",
       "      <td>Clinton</td>\n",
       "      <td>20735.0</td>\n",
       "      <td>Residential Institution</td>\n",
       "      <td>NaN</td>\n",
       "      <td>38.751505,-76.875331</td>\n",
       "      <td>Standby-Public Safety, Fire, or EMS Operationa...</td>\n",
       "      <td></td>\n",
       "      <td>NaN</td>\n",
       "    </tr>\n",
       "    <tr>\n",
       "      <th>4</th>\n",
       "      <td>2019-01-01 00:02:00</td>\n",
       "      <td>Unknown Problem/Person Down</td>\n",
       "      <td>NaN</td>\n",
       "      <td>NaN</td>\n",
       "      <td>A823</td>\n",
       "      <td>19010100000004</td>\n",
       "      <td>6547 HIL MAR DR</td>\n",
       "      <td>Forestville</td>\n",
       "      <td>20747.0</td>\n",
       "      <td>Private Residence</td>\n",
       "      <td>NaN</td>\n",
       "      <td>38.839608,-76.897350</td>\n",
       "      <td>Assist, Public</td>\n",
       "      <td></td>\n",
       "      <td>NaN</td>\n",
       "    </tr>\n",
       "  </tbody>\n",
       "</table>\n",
       "</div>"
      ],
      "text/plain": [
       "      Time Dispatched                             Problem Priority EMD Card#  \\\n",
       "0 2019-01-01 00:01:05         Unknown Problem/Person Down      NaN       NaN   \n",
       "1 2019-01-01 00:01:37                    Diabetic Problem      NaN       NaN   \n",
       "2 2019-01-01 00:01:49  Unconscious/Fainting/Near-Fainting      NaN       NaN   \n",
       "3 2019-01-01 00:01:49  Unconscious/Fainting/Near-Fainting      NaN       NaN   \n",
       "4 2019-01-01 00:02:00         Unknown Problem/Person Down      NaN       NaN   \n",
       "\n",
       "    Unit      Incident #       Address/Location         City      Zip  \\\n",
       "0   A826  19010100000001        2323 BARKLEY PL  Forestville  20747.0   \n",
       "1  MD840  19010100000002  11822 PARK WALDORF LA          NaN      NaN   \n",
       "2   A825  19010100000003       7520 SURRATTS RD      Clinton  20735.0   \n",
       "3  MD825  19010100000003       7520 SURRATTS RD      Clinton  20735.0   \n",
       "4   A823  19010100000004        6547 HIL MAR DR  Forestville  20747.0   \n",
       "\n",
       "    Incident Location Type Destination         GPS Locations  \\\n",
       "0        Private Residence         NaN  38.858391,-76.911763   \n",
       "1                      NaN         NaN                   NaN   \n",
       "2             Nursing Home         NaN  38.751505,-76.875331   \n",
       "3  Residential Institution         NaN  38.751505,-76.875331   \n",
       "4        Private Residence         NaN  38.839608,-76.897350   \n",
       "\n",
       "                                         Disposition       Age Gender  \n",
       "0                    Patient Treated, Released (AMA)  75 Years   Male  \n",
       "1               Canceled (Prior to Arrival At Scene)              NaN  \n",
       "2  Standby-Public Safety, Fire, or EMS Operationa...              NaN  \n",
       "3  Standby-Public Safety, Fire, or EMS Operationa...              NaN  \n",
       "4                                     Assist, Public              NaN  "
      ]
     },
     "execution_count": 119,
     "metadata": {},
     "output_type": "execute_result"
    }
   ],
   "source": [
    "pr.head()"
   ]
  },
  {
   "cell_type": "code",
   "execution_count": null,
   "metadata": {},
   "outputs": [],
   "source": []
  }
 ],
 "metadata": {
  "kernelspec": {
   "display_name": "Python 3",
   "language": "python",
   "name": "python3"
  },
  "language_info": {
   "codemirror_mode": {
    "name": "ipython",
    "version": 3
   },
   "file_extension": ".py",
   "mimetype": "text/x-python",
   "name": "python",
   "nbconvert_exporter": "python",
   "pygments_lexer": "ipython3",
   "version": "3.7.2"
  }
 },
 "nbformat": 4,
 "nbformat_minor": 2
}
